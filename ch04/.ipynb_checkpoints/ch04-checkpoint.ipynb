{
 "cells": [
  {
   "cell_type": "markdown",
   "metadata": {},
   "source": [
    "p.87 人も，過学習を避け，汎化能力を獲得すべき"
   ]
  },
  {
   "cell_type": "code",
   "execution_count": 1,
   "metadata": {
    "collapsed": true
   },
   "outputs": [],
   "source": [
    "import numpy as np"
   ]
  },
  {
   "cell_type": "markdown",
   "metadata": {},
   "source": [
    "4.2.1  \n",
    "\n",
    "$E=\\dfrac {1} {2}\\displaystyle \\sum_{k}\\left( y_{k}-t_{k}\\right) ^{2}$"
   ]
  },
  {
   "cell_type": "code",
   "execution_count": 2,
   "metadata": {
    "collapsed": true
   },
   "outputs": [],
   "source": [
    "# 4.2.1 2乗和誤差 p.89\n",
    "def mean_squared_error(y, t):\n",
    "    return 0.5 * np.sum((y-t)**2)"
   ]
  },
  {
   "cell_type": "code",
   "execution_count": 3,
   "metadata": {
    "collapsed": false
   },
   "outputs": [
    {
     "data": {
      "text/plain": [
       "0.097500000000000031"
      ]
     },
     "execution_count": 3,
     "metadata": {},
     "output_type": "execute_result"
    }
   ],
   "source": [
    "# p.89\n",
    "t = [0, 0, 1, 0, 0, 0, 0, 0, 0, 0] #「2」を正解とする教師データ\n",
    "y = [0.1, 0.05, 0.6, 0.0, 0.05, 0.1, 0.0, 0.1, 0.0, 0.0] #「2」の確率が最も高い場合のニューラルネットワークの出力\n",
    "mean_squared_error(np.array(y), np.array(t))"
   ]
  },
  {
   "cell_type": "markdown",
   "metadata": {},
   "source": [
    "$E=\\dfrac {1} {2}\\displaystyle \\sum_{k=1}^{10}\\left( y_{k}-t_{k}\\right) ^{2}$\n",
    "\n",
    "$$\\begin{eqnarray}\n",
    "E &=&\\dfrac {1} {2} \\left( \\left( y_{1}-t_{1}\\right) ^{2}+\\left( y_{2}-t_{2}\\right) ^{2}+\\left( y_{3}-t_{3}\\right) ^{2}+\\cdots + \\left( y_{10}-t_{10}\\right) ^{2}\\right)\\\\\n",
    "&=& \\dfrac {1} {2} \\left( \\left( 0.1-0\\right) ^{2}+\\left(0.05-0\\right) ^{2}+\\left(0.6-1\\right) ^{2}+\\cdots + \\left( 0.0-0\\right) ^{2}\\right)\\\\\n",
    "&=& \\dfrac {1} {2} \\left( \\left( 0.1\\right) ^{2}+\\left(0.05\\right) ^{2}+\\left(-0.4\\right) ^{2}+\\cdots + \\left( 0.0\\right) ^{2}\\right)\\\\\n",
    "&=& \\dfrac {1} {2} \\left( \\left( 0.1\\right) ^{2}+\\left(0.05\\right) ^{2}+\\left(-0.4\\right) ^{2}+\\left(0.05\\right) ^{2}+\\left(0.1\\right) ^{2}+ \\left( 0.1\\right) ^{2}+\\left( 0.0\\right) ^{2}\\right)\\\\\n",
    "&=& \\dfrac {1} {2} \\left( \\left( 0.01\\right)+\\left(0.0025\\right)+\\left(0.16\\right)+\\left(0.0025\\right)+\\left( 0.01\\right)+\\left( 0.01\\right)+ \\left( 0.0\\right)\\right)\\\\\n",
    "&=& \\dfrac {1} {2}\\cdot 0.195\\\\\n",
    "&=& 0.0975\n",
    "\\end{eqnarray}\n",
    "$$"
   ]
  },
  {
   "cell_type": "code",
   "execution_count": 4,
   "metadata": {
    "collapsed": false
   },
   "outputs": [
    {
     "data": {
      "text/plain": [
       "0.59750000000000003"
      ]
     },
     "execution_count": 4,
     "metadata": {},
     "output_type": "execute_result"
    }
   ],
   "source": [
    "y = [0.1, 0.05, 0.1, 0.0, 0.05, 0.1, 0.0, 0.6, 0.0, 0.0] #「7」の確率が最も高い場合のニューラルネットワークの出力\n",
    "mean_squared_error(np.array(y), np.array(t))"
   ]
  },
  {
   "cell_type": "markdown",
   "metadata": {},
   "source": [
    "4.2.2 交差エントロピー誤差\n",
    "\n",
    "$E=-\\displaystyle \\sum_{k}t_{k}\\log y_{k}$"
   ]
  },
  {
   "cell_type": "code",
   "execution_count": 5,
   "metadata": {
    "collapsed": true
   },
   "outputs": [],
   "source": [
    "# 4.2.2 p.91\n",
    "def cross_entropy_error(y, t):\n",
    "    delta = 1e-7\n",
    "    return -np.sum(t * np.log(y + delta))"
   ]
  },
  {
   "cell_type": "code",
   "execution_count": 6,
   "metadata": {
    "collapsed": false
   },
   "outputs": [
    {
     "data": {
      "text/plain": [
       "0.51082545709933802"
      ]
     },
     "execution_count": 6,
     "metadata": {},
     "output_type": "execute_result"
    }
   ],
   "source": [
    "t = [0, 0, 1, 0, 0, 0, 0, 0, 0, 0] #「2」を正解とする教師データ\n",
    "y = [0.1, 0.05, 0.6, 0.0, 0.05, 0.1, 0.0, 0.1, 0.0, 0.0] #「2」の確率が最も高い場合のニューラルネットワークの出力\n",
    "cross_entropy_error(np.array(y), np.array(t))"
   ]
  },
  {
   "cell_type": "markdown",
   "metadata": {},
   "source": [
    "$E=-\\displaystyle \\sum_{k=1}^{10}t_{k}\\log y_{k}$  \n",
    "\n",
    "one-hot 表現なので  \n",
    "\n",
    "$\\begin{eqnarray}\n",
    "t_{k}\n",
    " =\n",
    "  \\begin{cases}\n",
    "    1 \\\\\n",
    "    0 \n",
    "  \\end{cases}\n",
    "\\end{eqnarray}$\n",
    "\n",
    "$E = -\\log y_{k}$\n",
    "\n",
    "$$\\begin{eqnarray}\n",
    "E &=& -\\log y_{3}\\\\\n",
    "&=& -\\log{0.6}\\\\\n",
    "&=& 0.51\n",
    "\\end{eqnarray}\n",
    "$$"
   ]
  },
  {
   "cell_type": "code",
   "execution_count": 7,
   "metadata": {
    "collapsed": false
   },
   "outputs": [
    {
     "data": {
      "text/plain": [
       "2.3025840929945458"
      ]
     },
     "execution_count": 7,
     "metadata": {},
     "output_type": "execute_result"
    }
   ],
   "source": [
    "y = [0.1, 0.05, 0.1, 0.0, 0.05, 0.1, 0.0, 0.6, 0.0, 0.0] # 「2」の確率が 0.1 と低い場合\n",
    "cross_entropy_error(np.array(y), np.array(t))"
   ]
  },
  {
   "cell_type": "markdown",
   "metadata": {},
   "source": [
    "$\\begin{eqnarray}\n",
    "E &=& -\\log y_{3}\\\\\n",
    "&=& -\\log{0.1}\\\\\n",
    "&=& 2.3\n",
    "\\end{eqnarray}\n",
    "$"
   ]
  },
  {
   "cell_type": "markdown",
   "metadata": {},
   "source": [
    "4.2.3 交差エントロピー誤差\n",
    "\n",
    "$E=-\\displaystyle \\sum_{k}t_{k}\\log y_{k}$\n",
    "\n",
    "$E=-\\dfrac {1} {N}\\displaystyle \\sum_{n}\\sum_{k}t_{nk}\\log y_{nk}$  \n",
    "\n",
    "Nで割って正規化\n",
    "\n",
    "$\\displaystyle \\sum_{n}t_{n}y_{n}$ が違う  "
   ]
  },
  {
   "cell_type": "code",
   "execution_count": 8,
   "metadata": {
    "collapsed": true
   },
   "outputs": [],
   "source": [
    "# p.92\n",
    "import sys, os\n",
    "sys.path.append(os.pardir)  # 親ディレクトリのファイルをインポートするための設定\n",
    "import numpy as np\n",
    "from dataset.mnist import load_mnist\n",
    "\n",
    "(x_train, t_train), (x_test, t_test) = load_mnist(normalize=True, one_hot_label=True)"
   ]
  },
  {
   "cell_type": "code",
   "execution_count": 9,
   "metadata": {
    "collapsed": false
   },
   "outputs": [
    {
     "name": "stdout",
     "output_type": "stream",
     "text": [
      "(60000, 784)\n",
      "(60000, 10)\n"
     ]
    }
   ],
   "source": [
    "print(x_train.shape) # (60000, 784)\n",
    "print(t_train.shape) # (60000, 10)"
   ]
  },
  {
   "cell_type": "code",
   "execution_count": 10,
   "metadata": {
    "collapsed": false
   },
   "outputs": [],
   "source": [
    "train_size = x_train.shape[0] # x_train の第1次元の要素の長さ，すなわちベクトルの長さ 60000\n",
    "batch_size = 10\n",
    "batch_mask = np.random.choice(train_size, batch_size)\n",
    "x_batch = x_train[batch_mask]\n",
    "t_batch = t_train[batch_mask]"
   ]
  },
  {
   "cell_type": "code",
   "execution_count": 11,
   "metadata": {
    "collapsed": false
   },
   "outputs": [
    {
     "data": {
      "text/plain": [
       "60000"
      ]
     },
     "execution_count": 11,
     "metadata": {},
     "output_type": "execute_result"
    }
   ],
   "source": [
    "x_train.shape[0]"
   ]
  },
  {
   "cell_type": "code",
   "execution_count": 12,
   "metadata": {
    "collapsed": false
   },
   "outputs": [
    {
     "data": {
      "text/plain": [
       "array([25087,  4977,  8438, 43857, 22731, 10848, 54199, 30516, 41575, 43413])"
      ]
     },
     "execution_count": 12,
     "metadata": {},
     "output_type": "execute_result"
    }
   ],
   "source": [
    "batch_mask"
   ]
  },
  {
   "cell_type": "code",
   "execution_count": 13,
   "metadata": {
    "collapsed": false
   },
   "outputs": [
    {
     "name": "stdout",
     "output_type": "stream",
     "text": [
      "(10, 784)\n"
     ]
    }
   ],
   "source": [
    "print(x_batch.shape)"
   ]
  },
  {
   "cell_type": "code",
   "execution_count": 14,
   "metadata": {
    "collapsed": false
   },
   "outputs": [
    {
     "name": "stdout",
     "output_type": "stream",
     "text": [
      "(10, 10)\n"
     ]
    }
   ],
   "source": [
    "print(t_batch.shape)"
   ]
  },
  {
   "cell_type": "code",
   "execution_count": 15,
   "metadata": {
    "collapsed": false
   },
   "outputs": [
    {
     "data": {
      "text/plain": [
       "(10, 10, 10)"
      ]
     },
     "execution_count": 15,
     "metadata": {},
     "output_type": "execute_result"
    }
   ],
   "source": [
    "t = [0, 0, 1, 0, 0, 0, 0, 0, 0, 0] #「2」を正解とする教師データ one-hot 表現\n",
    "y = [0.1, 0.05, 0.6, 0.0, 0.05, 0.1, 0.0, 0.1, 0.0, 0.0] #「2」の確率が最も高い場合のニューラルネットワークの出力\n",
    "np.array(t).size, np.array(y).size, np.array(y).shape[0] # t, yの配列の要素数とyの第1次元の要素の長さ，すなわちベクトルの長さは同じ??"
   ]
  },
  {
   "cell_type": "markdown",
   "metadata": {},
   "source": [
    "4.2.3 交差エントロピー誤差  \n",
    "\n",
    "データが1個のとき\n",
    "\n",
    "$E=-\\displaystyle \\sum_{k}t_{k}\\log y_{k}$\n",
    "\n",
    "データがn個のとき\n",
    "\n",
    "$E=-\\dfrac {1} {N}\\displaystyle \\sum_{n}\\sum_{k}t_{nk}\\log y_{nk}$  \n",
    "\n",
    "$\\dfrac {1} {N}\\displaystyle \\sum_{n}t_{n}y_{n}$ が違う  \n",
    "\n",
    "Nで割って正規化\n",
    "\n",
    "one-hot 表現の場合  \n",
    "\n",
    "$\\begin{eqnarray}\n",
    "t_{nk}\n",
    " =\n",
    "  \\begin{cases}\n",
    "    1 \\\\\n",
    "    0 \n",
    "  \\end{cases}\n",
    "\\end{eqnarray}$\n",
    "\n",
    "$E = -\\dfrac {1} {N}\\displaystyle \\sum_{n}\\log y_{nk}$\n",
    "\n",
    "$$\\begin{eqnarray}\n",
    "E &=& -\\dfrac {1} {1}\\displaystyle \\sum_{1}\\log y_{13}\\\\\n",
    "&=& -\\log{0.6}\\\\\n",
    "&=& 0.51\n",
    "\\end{eqnarray}\n",
    "$$\n",
    "\n",
    "正解ラベルに対して、ニューラルネットワークの出力を得ることができれば、交差エントロピー誤差を計算することができる  \n",
    "ラベル表現の場合  \n",
    "\n",
    "$E=-\\dfrac {1} {N}\\displaystyle \\sum_{n}\\sum_{k}t_{nk}\\log y_{nk}$"
   ]
  },
  {
   "cell_type": "code",
   "execution_count": 16,
   "metadata": {
    "collapsed": false
   },
   "outputs": [
    {
     "name": "stderr",
     "output_type": "stream",
     "text": [
      "/Users/tatarahidenori/.pyenv/versions/3.5.0/lib/python3.5/site-packages/ipykernel/__main__.py:12: RuntimeWarning: divide by zero encountered in log\n",
      "/Users/tatarahidenori/.pyenv/versions/3.5.0/lib/python3.5/site-packages/ipykernel/__main__.py:12: RuntimeWarning: invalid value encountered in multiply\n"
     ]
    },
    {
     "data": {
      "text/plain": [
       "nan"
      ]
     },
     "execution_count": 16,
     "metadata": {},
     "output_type": "execute_result"
    }
   ],
   "source": [
    "# 4.2.4 p.94 one-hot表現\n",
    "\n",
    "t = [0, 0, 1, 0, 0, 0, 0, 0, 0, 0] #「2」を正解とする教師データ one-hot 表現\n",
    "y = [0.1, 0.05, 0.6, 0.0, 0.05, 0.1, 0.0, 0.1, 0.0, 0.0] #「2」の確率が最も高い場合のニューラルネットワークの出力\n",
    "\n",
    "def cross_entropy_error(y, t): # y=NNの出力, t=教師データ\n",
    "    if y.ndim == 1: # データひとつあたりの交差エントロピー誤差を求める場合\n",
    "        t = t.reshape(1, t.size) # 1×tの配列の要素数のサイズに変形 t=array([[0, 0, 1, 0, 0, 0, 0, 0, 0, 0]])\n",
    "        y = y.reshape(1, y.size) # 1×yの配列の要素数のサイズに変形 y=array([[ 0.1 ,  0.05,  0.6 ,  0.  ,  0.05,  0.1 ,  0.  ,  0.1 ,  0.  ,  0.  ]])\n",
    "        \n",
    "    batch_size = y.shape[0] # yの第1次元の要素の長さ，すなわちベクトルの長さ batch_size =10\n",
    "    return -np.sum(t * np.log(y)) / batch_size\n",
    "\n",
    "cross_entropy_error(np.array(y), np.array(t))"
   ]
  },
  {
   "cell_type": "code",
   "execution_count": 17,
   "metadata": {
    "collapsed": false
   },
   "outputs": [
    {
     "data": {
      "text/plain": [
       "10"
      ]
     },
     "execution_count": 17,
     "metadata": {},
     "output_type": "execute_result"
    }
   ],
   "source": [
    "np.array(y).shape[0]"
   ]
  },
  {
   "cell_type": "code",
   "execution_count": 18,
   "metadata": {
    "collapsed": false
   },
   "outputs": [
    {
     "data": {
      "text/plain": [
       "1.0216512475319814"
      ]
     },
     "execution_count": 18,
     "metadata": {},
     "output_type": "execute_result"
    }
   ],
   "source": [
    "# 4.2.4 p.94 one-hot表現ではない(ラベル表現のとき)\n",
    "\n",
    "t = [2] #「2」を正解とする教師データ ラベル表現のとき\n",
    "y = [0.1, 0.05, 0.6, 0.0, 0.05, 0.1, 0.0, 0.1, 0.0, 0.0] #「2」の確率が最も高い場合のニューラルネットワークの出力\n",
    "\n",
    "def cross_entropy_error(y, t):\n",
    "    if y.ndim == 1: # データひとつあたりの交差エントロピー誤差を求める場合\n",
    "        t = t.reshape(1, t.size) # 1×tの配列の要素数のサイズに変形 t=array([[2]])\n",
    "        y = y.reshape(1, y.size) # 1×yの配列の要素数のサイズに変形 y=array([[ 0.1 ,  0.05,  0.6 ,  0.  ,  0.05,  0.1 ,  0.  ,  0.1 ,  0.  ,  0.  ]])\n",
    "    \n",
    "    batch_size = y.shape[0] # # yの第1次元の要素の長さ，すなわちベクトルの長さ batch_size =10\n",
    "    \n",
    "    # y[np.arange(batch_size), t]) = [[ 0.6]]\n",
    "    # np.log(y[np.arange(batch_size), t]) = [[-0.51082562]]\n",
    "    # t * np.log(y[np.arange(batch_size), t]) = [[-1.02165125]]\n",
    "    # -np.sum(t * np.log(y[np.arange(batch_size), t]))=1.02165124753\n",
    "    return -np.sum(t * np.log(y[np.arange(batch_size), t])) / batch_size\n",
    "\n",
    "cross_entropy_error(np.array(y), np.array(t))"
   ]
  },
  {
   "cell_type": "code",
   "execution_count": 19,
   "metadata": {
    "collapsed": true
   },
   "outputs": [],
   "source": [
    "# 4.3.1 p.99 数値微分\n",
    "def numerical_diff(f, x):\n",
    "    h = 1e-4 # 0.0001\n",
    "    return (f(x+h) - f(x-h)) /(2*h)"
   ]
  },
  {
   "cell_type": "markdown",
   "metadata": {},
   "source": [
    "$\\dfrac {df(x)} {dx}=\\displaystyle\\lim _{h\\rightarrow 0}\\dfrac {f\\left( x+h\\right) -f\\left( x-h\\right) } {2h}$"
   ]
  },
  {
   "cell_type": "code",
   "execution_count": 20,
   "metadata": {
    "collapsed": false
   },
   "outputs": [
    {
     "data": {
      "text/plain": [
       "4.000000000004"
      ]
     },
     "execution_count": 20,
     "metadata": {},
     "output_type": "execute_result"
    }
   ],
   "source": [
    "# 4.3.1 p.100 数値微分と解析微分との差異\n",
    "def f(x):\n",
    "    return x**2\n",
    "numerical_diff(f, 2)"
   ]
  },
  {
   "cell_type": "code",
   "execution_count": 21,
   "metadata": {
    "collapsed": false
   },
   "outputs": [
    {
     "data": {
      "image/png": "[encoded data removed]",
      "text/plain": [
       "<matplotlib.figure.Figure at 0x1149f52b0>"
      ]
     },
     "metadata": {},
     "output_type": "display_data"
    }
   ],
   "source": [
    "# 4.3.2 p.100\n",
    "import numpy as np\n",
    "import matplotlib.pylab as plt\n",
    "# jupyter notebook に画像を表示するために下記を書いた\n",
    "%matplotlib inline\n",
    "\n",
    "x = np.arange(0.0, 20.0, 0.1) # 0から20まで，0.1刻みのx配列\n",
    "y = f(x)\n",
    "plt.xlabel(\"x\")\n",
    "plt.ylabel(\"f(x)\")\n",
    "plt.plot(x, y)\n",
    "plt.show()"
   ]
  },
  {
   "cell_type": "code",
   "execution_count": 22,
   "metadata": {
    "collapsed": false
   },
   "outputs": [
    {
     "data": {
      "text/plain": [
       "6.000000000012662"
      ]
     },
     "execution_count": 22,
     "metadata": {},
     "output_type": "execute_result"
    }
   ],
   "source": [
    "numerical_diff(f, 3)"
   ]
  },
  {
   "cell_type": "code",
   "execution_count": 23,
   "metadata": {
    "collapsed": false
   },
   "outputs": [
    {
     "data": {
      "text/plain": [
       "7.999999999999119"
      ]
     },
     "execution_count": 23,
     "metadata": {},
     "output_type": "execute_result"
    }
   ],
   "source": [
    "numerical_diff(f, 4)"
   ]
  },
  {
   "cell_type": "code",
   "execution_count": 24,
   "metadata": {
    "collapsed": true
   },
   "outputs": [],
   "source": [
    "# 4.3.2 p.100\n",
    "def function_1(x):\n",
    "    return 0.01*x**2+0.1*x"
   ]
  },
  {
   "cell_type": "code",
   "execution_count": 25,
   "metadata": {
    "collapsed": false
   },
   "outputs": [
    {
     "data": {
      "image/png": "[encoded data removed]",
      "text/plain": [
       "<matplotlib.figure.Figure at 0x115989ac8>"
      ]
     },
     "metadata": {},
     "output_type": "display_data"
    }
   ],
   "source": [
    "# 4.3.2 p.100\n",
    "import numpy as np\n",
    "import matplotlib.pylab as plt\n",
    "# jupyter notebook に画像を表示するために下記を書いた\n",
    "%matplotlib inline\n",
    "\n",
    "plt.xlabel(\"x\")\n",
    "plt.ylabel(\"f(x)\")\n",
    "\n",
    "x = np.arange(0.0, 20.0, 0.1) # 0から20まで，0.1刻みのx配列\n",
    "y = function_1(x)\n",
    "plt.plot(x, y)\n",
    "\n",
    "\n",
    "# 微分との差を見るために f(x)=x を書いた\n",
    "x = y\n",
    "plt.plot(x, y)\n",
    "\n",
    "# 微分との差を見るために f(x)=0.2x を書いた\n",
    "y = 0.2*x\n",
    "plt.plot(x, y)\n",
    "\n",
    "plt.legend([\"function_1\", \"f(x)=x\", \"f(x)=0.2x\"])\n",
    "plt.show()"
   ]
  },
  {
   "cell_type": "code",
   "execution_count": 26,
   "metadata": {
    "collapsed": false
   },
   "outputs": [
    {
     "data": {
      "text/plain": [
       "0.1999999999990898"
      ]
     },
     "execution_count": 26,
     "metadata": {},
     "output_type": "execute_result"
    }
   ],
   "source": [
    "numerical_diff(function_1, 5)"
   ]
  },
  {
   "cell_type": "code",
   "execution_count": 27,
   "metadata": {
    "collapsed": false
   },
   "outputs": [
    {
     "data": {
      "text/plain": [
       "0.2999999999986347"
      ]
     },
     "execution_count": 27,
     "metadata": {},
     "output_type": "execute_result"
    }
   ],
   "source": [
    "numerical_diff(function_1, 10)"
   ]
  },
  {
   "cell_type": "code",
   "execution_count": 28,
   "metadata": {
    "collapsed": false
   },
   "outputs": [
    {
     "name": "stdout",
     "output_type": "stream",
     "text": [
      "0.1999999999990898\n"
     ]
    },
    {
     "data": {
      "image/png": "[encoded data removed]",
      "text/plain": [
       "<matplotlib.figure.Figure at 0x115a23898>"
      ]
     },
     "metadata": {},
     "output_type": "display_data"
    }
   ],
   "source": [
    "# coding: utf-8\n",
    "import numpy as np\n",
    "import matplotlib.pylab as plt\n",
    "\n",
    "\n",
    "def numerical_diff(f, x):\n",
    "    h = 1e-4 # 0.0001\n",
    "    return (f(x+h) - f(x-h)) / (2*h)\n",
    "\n",
    "\n",
    "def function_1(x):\n",
    "    return 0.01*x**2 + 0.1*x \n",
    "\n",
    "\n",
    "def tangent_line(f, x):\n",
    "    d = numerical_diff(f, x)\n",
    "    print(d)\n",
    "    y = f(x) - d*x\n",
    "    return lambda t: d*t + y\n",
    "     \n",
    "x = np.arange(0.0, 20.0, 0.1)\n",
    "y = function_1(x)\n",
    "plt.xlabel(\"x\")\n",
    "plt.ylabel(\"f(x)\")\n",
    "\n",
    "tf = tangent_line(function_1, 5)\n",
    "y2 = tf(x)\n",
    "\n",
    "plt.plot(x, y)\n",
    "plt.plot(x, y2)\n",
    "\n",
    "# 微分との差を見るために f(x)=x を書いた\n",
    "x = y\n",
    "plt.plot(x, y)\n",
    "\n",
    "plt.legend([\"function_1\", \"numerical_diff(function_1, 5)\", \"f(x)=x\"])\n",
    "plt.show()"
   ]
  },
  {
   "cell_type": "code",
   "execution_count": 29,
   "metadata": {
    "collapsed": false
   },
   "outputs": [
    {
     "name": "stdout",
     "output_type": "stream",
     "text": [
      "0.2999999999986347\n"
     ]
    },
    {
     "data": {
      "image/png": "[encoded data removed]",
      "text/plain": [
       "<matplotlib.figure.Figure at 0x115a230b8>"
      ]
     },
     "metadata": {},
     "output_type": "display_data"
    }
   ],
   "source": [
    "# coding: utf-8\n",
    "import numpy as np\n",
    "import matplotlib.pylab as plt\n",
    "\n",
    "\n",
    "def numerical_diff(f, x):\n",
    "    h = 1e-4 # 0.0001\n",
    "    return (f(x+h) - f(x-h)) / (2*h)\n",
    "\n",
    "\n",
    "def function_1(x):\n",
    "    return 0.01*x**2 + 0.1*x \n",
    "\n",
    "\n",
    "def tangent_line(f, x):\n",
    "    d = numerical_diff(f, x)\n",
    "    print(d)\n",
    "    y = f(x) - d*x\n",
    "    return lambda t: d*t + y\n",
    "     \n",
    "x = np.arange(0.0, 20.0, 0.1)\n",
    "y = function_1(x)\n",
    "plt.xlabel(\"x\")\n",
    "plt.ylabel(\"f(x)\")\n",
    "\n",
    "tf = tangent_line(function_1, 10)\n",
    "y2 = tf(x)\n",
    "\n",
    "plt.plot(x, y)\n",
    "plt.plot(x, y2)\n",
    "plt.legend([\"function_1\", \"numerical_diff(function_1, 10)\"])\n",
    "plt.show()"
   ]
  },
  {
   "cell_type": "code",
   "execution_count": 30,
   "metadata": {
    "collapsed": true
   },
   "outputs": [],
   "source": [
    "# 4.3.3 p.102\n",
    "def function_2(x):\n",
    "    return x[0]**2 + x[1]**2\n",
    "    # または return np.sum(x**2)"
   ]
  },
  {
   "cell_type": "code",
   "execution_count": 33,
   "metadata": {
    "collapsed": true
   },
   "outputs": [],
   "source": [
    "# 4.3.3 p.103\n",
    "def function_tmp1(x0):\n",
    "    return x0*x0 + 4.0**2.0"
   ]
  },
  {
   "cell_type": "code",
   "execution_count": 34,
   "metadata": {
    "collapsed": false
   },
   "outputs": [
    {
     "data": {
      "text/plain": [
       "6.00000000000378"
      ]
     },
     "execution_count": 34,
     "metadata": {},
     "output_type": "execute_result"
    }
   ],
   "source": [
    "numerical_diff(function_tmp1, 3.0)"
   ]
  },
  {
   "cell_type": "code",
   "execution_count": 35,
   "metadata": {
    "collapsed": true
   },
   "outputs": [],
   "source": [
    "# 4.3.3 p.103\n",
    "def function_tmp2(x1):\n",
    "    return 3.0**2.0 + x1*x1"
   ]
  },
  {
   "cell_type": "code",
   "execution_count": 36,
   "metadata": {
    "collapsed": false
   },
   "outputs": [
    {
     "data": {
      "text/plain": [
       "7.999999999999119"
      ]
     },
     "execution_count": 36,
     "metadata": {},
     "output_type": "execute_result"
    }
   ],
   "source": [
    "numerical_diff(function_tmp2, 4.0)"
   ]
  },
  {
   "cell_type": "code",
   "execution_count": 37,
   "metadata": {
    "collapsed": true
   },
   "outputs": [],
   "source": [
    "# 4.4 p.104\n",
    "def numerical_gradient(f, x):\n",
    "    h = 1e-4 # 0.0001\n",
    "    grad = np.zeros_like(x) # xと同じ形状の配列で，その要素がすべて0の配列\n",
    "\n",
    "    for idx in range(x.size): # xの配列の要素数のサイズ\n",
    "        tmp_val = x[idx]\n",
    "        # f(x+h) の計算\n",
    "        x[idx] = tmp_val + h\n",
    "        fxh1 = f(x)\n",
    "\n",
    "        # f(x-h) の計算\n",
    "        x[idx] = tmp_val - h\n",
    "        fxh2 = f(x)\n",
    "\n",
    "        grad[idx] = (fxh1 - fxh2) / (2*h)\n",
    "        x[idx] = tmp_val # 値を元に戻す\n",
    "\n",
    "    return grad"
   ]
  },
  {
   "cell_type": "code",
   "execution_count": 45,
   "metadata": {
    "collapsed": false
   },
   "outputs": [
    {
     "name": "stderr",
     "output_type": "stream",
     "text": [
      "/Users/tatarahidenori/.pyenv/versions/3.5.0/lib/python3.5/site-packages/matplotlib/axes/_axes.py:519: UserWarning: No labelled objects found. Use label='...' kwarg on individual plots.\n",
      "  warnings.warn(\"No labelled objects found. \"\n"
     ]
    },
    {
     "data": {
      "image/png": "[encoded data removed]",
      "text/plain": [
       "<matplotlib.figure.Figure at 0x115e7fd30>"
      ]
     },
     "metadata": {},
     "output_type": "display_data"
    }
   ],
   "source": [
    "# coding: utf-8\n",
    "# cf.http://d.hatena.ne.jp/white_wheels/20100327/p3\n",
    "import numpy as np\n",
    "import matplotlib.pylab as plt\n",
    "from mpl_toolkits.mplot3d import Axes3D\n",
    "\n",
    "\n",
    "def _numerical_gradient_no_batch(f, x):\n",
    "    h = 1e-4 # 0.0001\n",
    "    grad = np.zeros_like(x)\n",
    "    \n",
    "    for idx in range(x.size):\n",
    "        tmp_val = x[idx]\n",
    "        x[idx] = float(tmp_val) + h\n",
    "        fxh1 = f(x) # f(x+h)\n",
    "        \n",
    "        x[idx] = tmp_val - h \n",
    "        fxh2 = f(x) # f(x-h)\n",
    "        grad[idx] = (fxh1 - fxh2) / (2*h)\n",
    "        \n",
    "        x[idx] = tmp_val # 値を元に戻す\n",
    "        \n",
    "    return grad\n",
    "\n",
    "\n",
    "def numerical_gradient(f, X):\n",
    "    if X.ndim == 1:\n",
    "        return _numerical_gradient_no_batch(f, X)\n",
    "    else:\n",
    "        grad = np.zeros_like(X)\n",
    "        \n",
    "        for idx, x in enumerate(X):\n",
    "            grad[idx] = _numerical_gradient_no_batch(f, x)\n",
    "        \n",
    "        return grad\n",
    "\n",
    "\n",
    "def function_2(x):\n",
    "    if x.ndim == 1:\n",
    "        return np.sum(x**2)\n",
    "    else:\n",
    "        return np.sum(x**2, axis=1)\n",
    "\n",
    "\n",
    "def tangent_line(f, x):\n",
    "    d = numerical_gradient(f, x)\n",
    "    print(d)\n",
    "    y = f(x) - d*x\n",
    "    return lambda t: d*t + y\n",
    "     \n",
    "if __name__ == '__main__':\n",
    "    x0 = np.arange(-10, 10, 1)\n",
    "    x1 = np.arange(-10, 10, 1)\n",
    "    X, Y = np.meshgrid(x0, x1)\n",
    "    \n",
    "    X = X.flatten()\n",
    "    Y = Y.flatten()\n",
    "    \n",
    "    grad = numerical_gradient(function_2, np.array([X, Y]) )\n",
    "    \n",
    "    plt.figure()\n",
    "    plt.quiver(X, Y, -grad[0], -grad[1],  angles=\"xy\",color=\"#666666\")#,headwidth=10,scale=40,color=\"#444444\")\n",
    "    plt.xlim([-10, 10])\n",
    "    plt.ylim([-10, 10])\n",
    "    plt.xlabel('x0')\n",
    "    plt.ylabel('x1')\n",
    "    plt.grid()\n",
    "    plt.legend()\n",
    "    plt.draw()\n",
    "    plt.show()"
   ]
  },
  {
   "cell_type": "code",
   "execution_count": 38,
   "metadata": {
    "collapsed": false
   },
   "outputs": [
    {
     "data": {
      "text/plain": [
       "array([ 6.,  8.])"
      ]
     },
     "execution_count": 38,
     "metadata": {},
     "output_type": "execute_result"
    }
   ],
   "source": [
    "numerical_gradient(function_2, np.array([3.0, 4.0]))"
   ]
  },
  {
   "cell_type": "code",
   "execution_count": 39,
   "metadata": {
    "collapsed": false
   },
   "outputs": [
    {
     "data": {
      "text/plain": [
       "array([ 0.,  4.])"
      ]
     },
     "execution_count": 39,
     "metadata": {},
     "output_type": "execute_result"
    }
   ],
   "source": [
    "numerical_gradient(function_2, np.array([0.0, 2.0]))"
   ]
  },
  {
   "cell_type": "code",
   "execution_count": 40,
   "metadata": {
    "collapsed": false
   },
   "outputs": [
    {
     "data": {
      "text/plain": [
       "array([ 6.,  0.])"
      ]
     },
     "execution_count": 40,
     "metadata": {},
     "output_type": "execute_result"
    }
   ],
   "source": [
    "numerical_gradient(function_2, np.array([3.0, 0.0]))"
   ]
  },
  {
   "cell_type": "code",
   "execution_count": 46,
   "metadata": {
    "collapsed": false
   },
   "outputs": [
    {
     "data": {
      "text/plain": [
       "array([ 0.,  0.])"
      ]
     },
     "execution_count": 46,
     "metadata": {},
     "output_type": "execute_result"
    }
   ],
   "source": [
    "numerical_gradient(function_2, np.array([0.0, 0.0]))"
   ]
  },
  {
   "cell_type": "code",
   "execution_count": null,
   "metadata": {
    "collapsed": true
   },
   "outputs": [],
   "source": [
    "# 4.4.1 p.107 勾配降下法\n",
    "def gradient_descent(f, init_x, lr=0.01, step_num=100):\n",
    "    x = init_x\n",
    "\n",
    "    for i in range(step_num):\n",
    "        grad = numerical_gradient(f, x)\n",
    "        x -= lr * grad\n",
    "\n",
    "    return x"
   ]
  },
  {
   "cell_type": "markdown",
   "metadata": {},
   "source": [
    "正誤表\n",
    "https://github.com/oreilly-japan/deep-learning-from-scratch/wiki/errata"
   ]
  }
 ],
 "metadata": {
  "kernelspec": {
   "display_name": "Python 3",
   "language": "python",
   "name": "python3"
  },
  "language_info": {
   "codemirror_mode": {
    "name": "ipython",
    "version": 3
   },
   "file_extension": ".py",
   "mimetype": "text/x-python",
   "name": "python",
   "nbconvert_exporter": "python",
   "pygments_lexer": "ipython3",
   "version": "3.5.0"
  },
  "latex_envs": {
   "bibliofile": "biblio.bib",
   "cite_by": "apalike",
   "current_citInitial": 1,
   "eqLabelWithNumbers": true,
   "eqNumInitial": 0
  },
  "toc": {
   "toc_cell": false,
   "toc_number_sections": true,
   "toc_threshold": 6,
   "toc_window_display": false
  }
 },
 "nbformat": 4,
 "nbformat_minor": 0
}
